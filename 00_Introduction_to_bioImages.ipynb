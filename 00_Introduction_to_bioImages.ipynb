{
 "cells": [
  {
   "cell_type": "markdown",
   "id": "244405ae-6f1e-4c2a-adf2-3f33040d210a",
   "metadata": {},
   "source": [
    "# 00_Introduction_to_bioImages"
   ]
  },
  {
   "cell_type": "markdown",
   "id": "aebe1acc-14ee-43a7-8b6f-c93d4e6de04d",
   "metadata": {},
   "source": [
    "***"
   ]
  },
  {
   "cell_type": "markdown",
   "id": "249dab67-788a-4655-b951-4b87e3b70561",
   "metadata": {},
   "source": [
    "This notebook serves as an introduction to bioimages. We will take you through some basic concepts demonstrating how to load images and plot images in a Jupyter notebook, how to change the contrast of your images, how images are actually just arrays of numbers and how to deal with image dimensionality. "
   ]
  },
  {
   "cell_type": "code",
   "execution_count": null,
   "id": "fca15266-0e06-45d2-bd3f-282ac0dd6c39",
   "metadata": {},
   "outputs": [],
   "source": [
    "from glob import glob\n",
    "from skimage import io\n",
    "from pathlib import Path\n",
    "import matplotlib as mpl\n",
    "import matplotlib.pyplot as plt\n",
    "import stackview\n",
    "import numpy as np"
   ]
  },
  {
   "cell_type": "markdown",
   "id": "38f776c7-daa8-4a62-8715-810b9f7b66af",
   "metadata": {},
   "source": [
    "## <font color='seagreen'> 0: Loading and inspecting Images </font>"
   ]
  },
  {
   "cell_type": "markdown",
   "id": "a9ebe26a-86c1-4092-b126-8b8720809492",
   "metadata": {},
   "source": [
    "In the next code block, we will assign the paths to our images to the variable 'DIC_paths'. Then we will use the function io.imread from scikit-image (a python image processing library) to load our images into memory. "
   ]
  },
  {
   "cell_type": "code",
   "execution_count": null,
   "id": "9dbd47e5-0f3d-4bb6-b2ee-44d93540a915",
   "metadata": {},
   "outputs": [],
   "source": [
    "path=fr'.\\data\\00_Intro_to_BioImages\\*.tif'\n",
    "DIC_paths=glob(path)\n",
    "DIC_paths"
   ]
  },
  {
   "cell_type": "code",
   "execution_count": null,
   "id": "f0ffe35b-0428-4237-b395-3a8a6716c3fa",
   "metadata": {},
   "outputs": [],
   "source": [
    "DICs= [io.imread(DIC_path) for DIC_path in DIC_paths]"
   ]
  },
  {
   "cell_type": "markdown",
   "id": "c133a075-0c0d-417c-8cde-e8d7b41648be",
   "metadata": {},
   "source": [
    "Okay, now that we have loaded our images into memory we can have a look at their attributes (number of images, data-type,  their shapes, minimal pixel intensity value, maximal intensity value)."
   ]
  },
  {
   "cell_type": "code",
   "execution_count": null,
   "id": "e63ca046-06c5-421e-91e8-5bdc4e5cd403",
   "metadata": {},
   "outputs": [],
   "source": [
    "print(len(DICs))"
   ]
  },
  {
   "cell_type": "code",
   "execution_count": null,
   "id": "83646191-af7f-4e70-afb4-2a5ee96696dd",
   "metadata": {},
   "outputs": [],
   "source": [
    "DICs[2]"
   ]
  },
  {
   "cell_type": "code",
   "execution_count": null,
   "id": "b1e2f271-2f9c-4874-8bde-ba567d1d3da5",
   "metadata": {},
   "outputs": [],
   "source": [
    "DICs[2].shape"
   ]
  },
  {
   "cell_type": "code",
   "execution_count": null,
   "id": "d0e14069-beeb-479d-8433-00a1e8794cb4",
   "metadata": {},
   "outputs": [],
   "source": [
    "DICs[2].min()"
   ]
  },
  {
   "cell_type": "code",
   "execution_count": null,
   "id": "42f72258-543d-4456-9c35-05186c0eb835",
   "metadata": {},
   "outputs": [],
   "source": [
    "DICs[2].max()"
   ]
  },
  {
   "cell_type": "markdown",
   "id": "f7907f76-2155-429f-85b2-4041dd6e9284",
   "metadata": {},
   "source": [
    "**Q0.0: Can an image be described as an array of numbers?**"
   ]
  },
  {
   "cell_type": "markdown",
   "id": "6af6338a-7467-4086-b208-e5c21124db79",
   "metadata": {},
   "source": [
    "type here"
   ]
  },
  {
   "cell_type": "markdown",
   "id": "cc354bb7-1414-4d95-8f4c-b859d1d53c89",
   "metadata": {},
   "source": [
    "**Q0.1: What are the shapes of each image?**"
   ]
  },
  {
   "cell_type": "markdown",
   "id": "89c07e67-9d44-460a-98aa-440d7c8c0660",
   "metadata": {},
   "source": [
    "type here"
   ]
  },
  {
   "cell_type": "markdown",
   "id": "20ad93f5-5c00-4a59-aa31-7ee75fd7c228",
   "metadata": {},
   "source": [
    "**Q0.2: Our images are 16-bit images. What is the minimum and maximal possible intensity for a single pixel in our images?**"
   ]
  },
  {
   "cell_type": "markdown",
   "id": "12595ffe-2698-4ebd-9c66-93b850a5eaa2",
   "metadata": {},
   "source": [
    "type here"
   ]
  },
  {
   "cell_type": "markdown",
   "id": "4cd39049-8eff-44c8-848f-48924382d65e",
   "metadata": {},
   "source": [
    "**Q0.3: Are their differences between the minimum and maximum pixel intensity of each image?**"
   ]
  },
  {
   "cell_type": "markdown",
   "id": "fc5fb479-4a63-4a68-b396-80ceccf621fb",
   "metadata": {},
   "source": [
    "type here"
   ]
  },
  {
   "cell_type": "markdown",
   "id": "128a0f17-e2b2-457b-81e7-9d67dd7e3412",
   "metadata": {},
   "source": [
    "***"
   ]
  },
  {
   "cell_type": "markdown",
   "id": "23214345-1a0a-4d57-87c1-82ba7614dbbc",
   "metadata": {},
   "source": [
    "## <font color='seagreen'> 1: Playing with Contrast </font> "
   ]
  },
  {
   "cell_type": "markdown",
   "id": "f4f6c43b-e88c-43a7-b41b-749bbbee4339",
   "metadata": {},
   "source": [
    "Let us plot the images that we have loaded. We have loaded three images corresponding to the fungi: Candida albicans, Arbuscular Mycorrhizal Fungi, and Saccharomyces cerevisiae. The images are all brightfield microscopy images. However, for two of the images, a DIC-filter (https://en.wikipedia.org/wiki/Differential_interference_contrast_microscopy) was used during acquisition.  "
   ]
  },
  {
   "cell_type": "code",
   "execution_count": null,
   "id": "41ced904-1926-45a4-b2ea-264a3b2387ea",
   "metadata": {},
   "outputs": [],
   "source": [
    "fig,ax = plt.subplots(ncols=3, figsize=(20,20))\n",
    "\n",
    "for i in range(0,3):\n",
    "    ax[i].imshow(DICs[i],cmap='Greys_r', vmin=np.percentile(DICs[i],10),vmax=np.percentile(DICs[i],90))\n",
    "    ax[i].set_title(Path(DIC_paths[i]).stem)"
   ]
  },
  {
   "cell_type": "markdown",
   "id": "69427e70-6fe4-4218-9559-2f2d1f1678d8",
   "metadata": {},
   "source": [
    "**Q1.0 Do all the images have the same contrast and brightness?**"
   ]
  },
  {
   "cell_type": "markdown",
   "id": "0314c5fb-32de-4bed-a718-2ffbcc5583bd",
   "metadata": {},
   "source": [
    "type here"
   ]
  },
  {
   "cell_type": "markdown",
   "id": "03bb0935-314d-4b3b-b936-6516a8d94ffe",
   "metadata": {},
   "source": [
    "We can count the number of pixels with a certain intensity and display these within a histogram. If we plot these histograms for all our images, we can see how the pixel intensity distributions differ per image. "
   ]
  },
  {
   "cell_type": "code",
   "execution_count": null,
   "id": "f2598005-7936-460d-ad16-89fa105fb5d3",
   "metadata": {},
   "outputs": [],
   "source": [
    "fig,ax = plt.subplots(ncols=3, figsize=(15,3))\n",
    "\n",
    "for i in range(0,3):\n",
    "    ax[i].hist(DICs[i].ravel(), 255)\n",
    "    ax[i].set_title(Path(DIC_paths[i]).stem)\n",
    "\n",
    "    #set x lims and labels\n",
    "    ax[i].set_xlim([0,2**16])\n",
    "    ax[i].set_xlabel('Fluorescence intensity (A.U.)')\n",
    "    \n",
    "    #set y lims and labels\n",
    "    ax[i].set_ylim([0,800000])\n",
    "    if i==0:\n",
    "        ax[i].set_ylabel('Counts')"
   ]
  },
  {
   "cell_type": "markdown",
   "id": "7eaeed6c-4928-4858-b9f2-8e75949aaec6",
   "metadata": {},
   "source": [
    "**Q1.1 Do the intensity distribution correspond to the perceived brightness in the plotted images below (yes/no). Why do you think this is the case?**"
   ]
  },
  {
   "cell_type": "markdown",
   "id": "2d4d4c5f-9406-45da-bf37-f1015dc9e7b5",
   "metadata": {},
   "source": [
    "type here"
   ]
  },
  {
   "cell_type": "markdown",
   "id": "23ad4e07-8e4e-4145-9685-236d3777b66d",
   "metadata": {},
   "source": [
    "We can determine to which minimal and maximal pixel intensity our colourmap is scaled. Change these values and inspect what their effect is on the contrast and brightness of the image below."
   ]
  },
  {
   "cell_type": "code",
   "execution_count": null,
   "id": "017e7738-4ad8-4178-b44e-100711e003f7",
   "metadata": {},
   "outputs": [],
   "source": [
    "#change minimal value for colourmap mapping\n",
    "min_pixel=800\n",
    "\n",
    "#change maximal value for colourmap mapping\n",
    "max_pixel=10000\n",
    "\n",
    "plt.figure()\n",
    "\n",
    "plt.imshow(DICs[1], cmap='Greys_r', vmin=min_pixel,vmax=max_pixel)\n",
    "cbar = plt.colorbar(orientation='horizontal')\n",
    "cbar.set_label('fluorescence (A.U)')"
   ]
  },
  {
   "cell_type": "markdown",
   "id": "2ed41c62-b7c6-45e7-ba94-9cd7f1ebcabe",
   "metadata": {},
   "source": [
    "Lets change the colour map used."
   ]
  },
  {
   "cell_type": "code",
   "execution_count": null,
   "id": "0a62d09a-d72a-4121-a480-aab219d3d8de",
   "metadata": {},
   "outputs": [],
   "source": [
    "#change minimal value for colourmap mapping\n",
    "min_pixel=800\n",
    "\n",
    "#change maximal value for colourmap mapping\n",
    "max_pixel=10000\n",
    "\n",
    "plt.figure()\n",
    "\n",
    "plt.imshow(DICs[1], cmap='viridis', vmin=min_pixel,vmax=max_pixel)\n",
    "cbar = plt.colorbar(orientation='horizontal')\n",
    "cbar.set_label('Title (Unit)')"
   ]
  },
  {
   "cell_type": "markdown",
   "id": "3a71663a-83d3-4190-84a8-ce1aa4a1f31d",
   "metadata": {},
   "source": [
    "**Q1.2 The image has now different colours, has this changed anything to the raw image data?**"
   ]
  },
  {
   "cell_type": "markdown",
   "id": "d92b698e-1243-4413-9829-1265816dc185",
   "metadata": {},
   "source": [
    "type here."
   ]
  },
  {
   "cell_type": "markdown",
   "id": "673edda4-f8f6-4f95-8503-d737fc28069f",
   "metadata": {},
   "source": [
    "Do the same but for all images at the same time. "
   ]
  },
  {
   "cell_type": "code",
   "execution_count": null,
   "id": "8774a5d5-89c5-4206-9c90-b68a2dd3fa3c",
   "metadata": {},
   "outputs": [],
   "source": [
    "fig,ax = plt.subplots(ncols=3, nrows=2, figsize=(20,10))\n",
    "\n",
    "# every pixel below this value is displayed as black\n",
    "min_pixel=800\n",
    "\n",
    "# every pixel above this value is displayed at maximum brightness\n",
    "max_pixel=40000\n",
    "\n",
    "# add a colourbar to your plot\n",
    "norm = mpl.colors.Normalize(vmin=min_pixel, vmax=max_pixel)\n",
    "\n",
    "#How does this number change the mapping or binning of your colourbar?\n",
    "N=100\n",
    "#change Greys_r to viridis and see what happens :)\n",
    "cmap = plt.get_cmap('Greys_r',N) \n",
    "\n",
    "#Create a mapped colourbar figure.\n",
    "sm = plt.cm.ScalarMappable(cmap=cmap, norm=norm) \n",
    "sm.set_array([]) \n",
    "fig.subplots_adjust(right=0.8)\n",
    "cbar_ax = fig.add_axes([0.85, 0.15, 0.05, 0.7])\n",
    "fig.colorbar(sm, cax=cbar_ax)\n",
    "\n",
    "#plot images and histograms\n",
    "for i in range(0,3):\n",
    "    #display images\n",
    "    ax[0,i].imshow(DICs[i],cmap=cmap, vmin=min_pixel,vmax=max_pixel)\n",
    "    ax[0,i].set_title(Path(DIC_paths[i]).stem)\n",
    "\n",
    "    #display histograms\n",
    "    ax[1,i].hist(DICs[i].ravel(), 255)\n",
    "    ax[1,i].set_title(Path(DIC_paths[i]).stem)\n",
    "\n",
    "    #set x lims and labels for every histogram\n",
    "    ax[1,i].set_xlim([0,2**16])\n",
    "    ax[1,i].set_xlabel('Fluorescence intensity (A.U.)')\n",
    "    \n",
    "    #set y lims and labels every histogram\n",
    "    ax[1,i].set_ylim([0,800000])\n",
    "    if i==0:\n",
    "        ax[i,1].set_ylabel('Counts')\n",
    "\n",
    "    #add vertical bars for vmin and vmax to each histogram\n",
    "    ax[1,i].axvline(x=min_pixel, c='red')\n",
    "    ax[1,i].axvline(x=max_pixel, c='red')"
   ]
  },
  {
   "cell_type": "markdown",
   "id": "469a8fe9-5867-414e-bd32-0e245734e413",
   "metadata": {},
   "source": [
    "**Q1.3 What effect has the variable N on the mapping of your colourmap?**"
   ]
  },
  {
   "cell_type": "markdown",
   "id": "6ada1f6b-dda1-465e-bbdb-4d3ccb266171",
   "metadata": {},
   "source": [
    "type here"
   ]
  },
  {
   "cell_type": "markdown",
   "id": "7eb97f66-5072-43fe-b14b-4e16f7d0c817",
   "metadata": {},
   "source": [
    "**Q1.4 After setting vmin and vmax, can the brightness of each image now be better compared? (explain why or why not)**"
   ]
  },
  {
   "cell_type": "markdown",
   "id": "c632863a-742a-4a91-8394-a8053774ff05",
   "metadata": {},
   "source": [
    "type here"
   ]
  },
  {
   "cell_type": "markdown",
   "id": "ceb17548-272f-4838-827d-f0ca6a746bae",
   "metadata": {},
   "source": [
    "***"
   ]
  },
  {
   "cell_type": "markdown",
   "id": "f62bfe9f-4a2b-455f-9d16-9ee13008f3c2",
   "metadata": {},
   "source": [
    "## <font color='seagreen'> 2: Dealing with Dimensionality </font> "
   ]
  },
  {
   "cell_type": "markdown",
   "id": "67cd3fbd-c4c2-4af7-9eea-1777c5dc5f43",
   "metadata": {},
   "source": [
    "So far we have only dealt with 2D images with a x, and y dimension. However, images can be multidimensional as well. For example, a timelapse videos of growing cells or a multilayered image. Here, we will open 2 multidimensional images (image stacks), and give you some idea of how to deal with these larger formats. Particularly, we will focus on how to index and display certain parts of these images."
   ]
  },
  {
   "cell_type": "code",
   "execution_count": null,
   "id": "dbf07647-df34-45bb-929b-b5982eba06db",
   "metadata": {},
   "outputs": [],
   "source": [
    "path=r'.\\data\\00_Intro_to_BioImages\\multiD_images\\*.tif'\n",
    "image_stack_paths=glob(path)\n",
    "image_stack_paths"
   ]
  },
  {
   "cell_type": "code",
   "execution_count": null,
   "id": "7d7ce2db-362f-4327-b88e-13c3ebe454d3",
   "metadata": {},
   "outputs": [],
   "source": [
    "stack1, stack2 = io.imread(image_stack_paths[0]), io.imread(image_stack_paths[1])"
   ]
  },
  {
   "cell_type": "code",
   "execution_count": null,
   "id": "ed83e559-fd09-41a4-8d71-b153920df4fc",
   "metadata": {},
   "outputs": [],
   "source": [
    "stack1.shape"
   ]
  },
  {
   "cell_type": "code",
   "execution_count": null,
   "id": "7ec92897-f360-4fcf-a4ec-f7407e5be504",
   "metadata": {},
   "outputs": [],
   "source": [
    "stack2.shape"
   ]
  },
  {
   "cell_type": "markdown",
   "id": "e72cb063-79ca-428b-b301-5dd4a2387102",
   "metadata": {},
   "source": [
    "**Q2.0 Inspect the shape of each image, how many dimensions do they have?**"
   ]
  },
  {
   "cell_type": "markdown",
   "id": "e15c6a02-a9b3-4f7c-b5cb-4724b8b07da7",
   "metadata": {},
   "source": [
    "type here"
   ]
  },
  {
   "cell_type": "code",
   "execution_count": null,
   "id": "9f3bd1a1-9d39-4b20-a0e1-eb02abf7689f",
   "metadata": {},
   "outputs": [],
   "source": [
    "stackview.slice(stack1, zoom_factor=0.3)"
   ]
  },
  {
   "cell_type": "markdown",
   "id": "e737a583-bc85-42d7-92e5-aa952a3df864",
   "metadata": {},
   "source": [
    "**Q2.1 Let's have a closer look at stack1. What dimension are displayed in this image?** "
   ]
  },
  {
   "cell_type": "markdown",
   "id": "ed547844-bbf9-4737-8838-51d85a08fd6a",
   "metadata": {},
   "source": [
    "type here"
   ]
  },
  {
   "cell_type": "markdown",
   "id": "541fca0d-3940-4ceb-8069-1d98a32ab0d5",
   "metadata": {},
   "source": [
    "**Exercise**"
   ]
  },
  {
   "cell_type": "markdown",
   "id": "500159e7-9cdb-4841-b335-0607703d840c",
   "metadata": {},
   "source": [
    "Display the 40th image in this timelapse video of growing $C.albicans$ cells."
   ]
  },
  {
   "cell_type": "code",
   "execution_count": null,
   "id": "4da9c174-49c0-45ad-9722-667e5b06d6e3",
   "metadata": {},
   "outputs": [],
   "source": [
    "stack1.shape"
   ]
  },
  {
   "cell_type": "code",
   "execution_count": null,
   "id": "685f573a-635a-49f9-b2aa-1b1bde2406ac",
   "metadata": {},
   "outputs": [],
   "source": [
    "img = stack1[] # index inside the square brackets\n",
    "\n",
    "plt.imshow(img, cmap='Greys_r')"
   ]
  },
  {
   "cell_type": "markdown",
   "id": "6e2c957e-ef4a-4f6d-8967-08ed63f5fd0c",
   "metadata": {},
   "source": [
    "stack2 is not a timelapse video but a multilayered and multichannel fluorescent imagestack instead. Its image dimensions (3, 41, 2304, 2304) correspond to the dimensions: (channel, layer, x, y). Different fluorescent channels can be used to measure the fluorescence of dyes and molecules within the cell. In this case, channel 0 corresponds to cell autofluorescence, whilst in channel a specific mRNA molecule is stained, and in channel 2 the cell nucleus is stained. The code block below can be used to scroll through the z-layers of a single channel."
   ]
  },
  {
   "cell_type": "code",
   "execution_count": null,
   "id": "7c1d779f-fc61-476a-a701-b9c90e245646",
   "metadata": {},
   "outputs": [],
   "source": [
    "stackview.slice(stack2[2,:,...], zoom_factor=0.3)"
   ]
  },
  {
   "cell_type": "markdown",
   "id": "7e522917-b8c4-45ee-a58e-ba8e2dff50ec",
   "metadata": {},
   "source": [
    "Here, we will perform a maximimun intensity over one of the image dimension in stack2. Such that only the maximum pixel intensities across that dimension are kept."
   ]
  },
  {
   "cell_type": "code",
   "execution_count": null,
   "id": "3009e82b-336f-4249-8c6d-0aab90fc7471",
   "metadata": {},
   "outputs": [],
   "source": [
    "zproject_stack2= np.amax(stack2[:,22:26,...],axis=1)\n",
    "zproject_stack2.shape"
   ]
  },
  {
   "cell_type": "markdown",
   "id": "8f82b7fc-8da8-48af-bd7a-ac0964354932",
   "metadata": {},
   "source": [
    "**Q2.1 How does a z-maxprojection change the shape of your imagestack?**"
   ]
  },
  {
   "cell_type": "markdown",
   "id": "78275e05-b036-4866-a716-aa5a1af1c4e8",
   "metadata": {},
   "source": [
    "type here"
   ]
  },
  {
   "cell_type": "code",
   "execution_count": null,
   "id": "1560eb1e-1172-43e1-a8a6-4a3a204f6460",
   "metadata": {},
   "outputs": [],
   "source": [
    "stackview.switch(\n",
    "    {\"empty\":  zproject_stack2[0,...],\n",
    "     \"mRNA\":  zproject_stack2[1,...],\n",
    "     \"nucleus\":  zproject_stack2[2,...]\n",
    "    },\n",
    "    colormap=[\"pure_magenta\", \"pure_green\", \"pure_blue\"],\n",
    "    toggleable=True, \n",
    "    zoom_factor=0.3\n",
    ")"
   ]
  },
  {
   "cell_type": "markdown",
   "id": "b7799493-46cc-4ead-8369-8934f3c5c181",
   "metadata": {},
   "source": [
    "**2.2 Inspect the remaining dimension of your zprojection. Which dimension was lost?**"
   ]
  },
  {
   "cell_type": "markdown",
   "id": "07b37957-169c-493e-a8c8-0c161fed9611",
   "metadata": {},
   "source": [
    "type here"
   ]
  },
  {
   "cell_type": "markdown",
   "id": "c0663518-1a8e-4612-a61e-7f3165ff5c8e",
   "metadata": {},
   "source": [
    "***"
   ]
  },
  {
   "cell_type": "markdown",
   "id": "1790a9c6-cd04-4b94-85dc-c2a37a83ce90",
   "metadata": {},
   "source": [
    "## <font color='seagreen'> 3: Programming excersize </font> "
   ]
  },
  {
   "cell_type": "markdown",
   "id": "fda69070-78d5-46e7-8fff-4e4523d176b4",
   "metadata": {},
   "source": [
    "**3.1 Inspect the image below. Use indexing to crop and display a single cell**"
   ]
  },
  {
   "cell_type": "code",
   "execution_count": null,
   "id": "525d5e32-89ac-4f69-99ee-0a3addcbf2b4",
   "metadata": {},
   "outputs": [],
   "source": [
    "#change this code\n",
    "io.imshow(DICs[-1])"
   ]
  },
  {
   "cell_type": "markdown",
   "id": "9eaa9104-dea2-4d38-9ad7-4fc9d3e1a8d3",
   "metadata": {},
   "source": [
    "**3.1 Change the brightness, contrast, and the colormap of the image**"
   ]
  },
  {
   "cell_type": "code",
   "execution_count": null,
   "id": "6bc83172-cff4-40e5-905c-61889b0eb7ba",
   "metadata": {},
   "outputs": [],
   "source": [
    "#change this code\n",
    "io.imshow(DICs[-1])"
   ]
  },
  {
   "cell_type": "markdown",
   "id": "00033e2b-6007-411e-b309-9f1f4cf62cb8",
   "metadata": {},
   "source": [
    "***"
   ]
  },
  {
   "cell_type": "markdown",
   "id": "374ea856-427c-4f22-8ca0-33ab069783de",
   "metadata": {},
   "source": [
    "You have reached the end of this notebook, have you understood the main concepts in this introductions about image analysis?"
   ]
  },
  {
   "cell_type": "markdown",
   "id": "47f0dd84-4a64-4cd2-a5e0-0a6f87fceecd",
   "metadata": {},
   "source": [
    "- Images are just big multidimensional arrays of numbers."
   ]
  },
  {
   "cell_type": "markdown",
   "id": "895fd6c9-a971-4ac0-bd22-ea504b54a00e",
   "metadata": {},
   "source": [
    "- Contrast and brightness are display settings that can be changed. Be careful about using the same settings when comparing images. "
   ]
  },
  {
   "cell_type": "markdown",
   "id": "ea64611d-2118-40ba-aae0-6d28dd008375",
   "metadata": {},
   "source": [
    "- In microscopy colour often correspond to colourmaps and not to actual colours. Therefore, image's colour can be changed without changing the underlying raw data."
   ]
  },
  {
   "cell_type": "markdown",
   "id": "2599c891-bc7d-4167-ac49-9216d93350c7",
   "metadata": {},
   "source": [
    "See you in the next notebook."
   ]
  }
 ],
 "metadata": {
  "kernelspec": {
   "display_name": "Python 3 (ipykernel)",
   "language": "python",
   "name": "python3"
  },
  "language_info": {
   "codemirror_mode": {
    "name": "ipython",
    "version": 3
   },
   "file_extension": ".py",
   "mimetype": "text/x-python",
   "name": "python",
   "nbconvert_exporter": "python",
   "pygments_lexer": "ipython3",
   "version": "3.9.18"
  }
 },
 "nbformat": 4,
 "nbformat_minor": 5
}
