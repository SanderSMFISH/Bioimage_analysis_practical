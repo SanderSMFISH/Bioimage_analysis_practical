{
 "cells": [
  {
   "cell_type": "markdown",
   "id": "4e4d5d88-0da7-454f-bd55-550703701ff8",
   "metadata": {},
   "source": [
    "# 01_Segmentation_and_the_Napari_image_viewer"
   ]
  },
  {
   "cell_type": "markdown",
   "id": "8f6772dd-9c81-4fd2-8964-50dfffb2f787",
   "metadata": {},
   "source": [
    "***"
   ]
  },
  {
   "cell_type": "markdown",
   "id": "306f4ac8-3eef-4894-96ea-a8de4cf0b818",
   "metadata": {},
   "source": [
    "In this Notebook, we will look at some $S. cerevisiae$ cells to which a ribosomal dye has been applied. As yeast cells are filled with 10.000s of ribosomal proteins this should lead to a strong increase in signal. However, a **negative control** image was also included in this dataset, which demonstrates the expected background signal in cells without any staining. We want to measure how fluorescence intensity between the stained cells and negative control cells differs. The main concepts that we would like you to learn from this notebook are what is segmentation, how to extract data from segmentation masks, and what the python viewer Napari and its plugins are capable of."
   ]
  },
  {
   "cell_type": "code",
   "execution_count": null,
   "id": "69154356-2457-4c1f-9ab7-74dbaf179d77",
   "metadata": {},
   "outputs": [],
   "source": [
    "from glob import glob\n",
    "from skimage import io\n",
    "from pathlib import Path\n",
    "import napari\n",
    "from napari.layers import Image, Labels\n",
    "import numpy as np\n",
    "from skimage.measure import regionprops_table as rt\n",
    "import pandas as pd\n",
    "import matplotlib.pyplot as plt\n",
    "import seaborn as sns\n",
    "from scipy.ndimage import label\n",
    "from magicgui import magicgui"
   ]
  },
  {
   "cell_type": "markdown",
   "id": "1aabb196-65d1-4fd5-b50f-ec7737e8a9d5",
   "metadata": {},
   "source": [
    "## <font color='seagreen'> 0: Loading and inspecting Images </font>"
   ]
  },
  {
   "cell_type": "code",
   "execution_count": null,
   "id": "c252e1e1-79e2-4424-a4e8-16c906fc3c06",
   "metadata": {},
   "outputs": [],
   "source": [
    "path=r'.\\data\\01_Segmentation_and_the_Napari_image_viewer\\*.tif'\n",
    "img_paths=glob(path)\n",
    "img_paths\n",
    "\n",
    "imgs=[io.imread(img_path) for img_path in img_paths]"
   ]
  },
  {
   "cell_type": "code",
   "execution_count": null,
   "id": "77fabb5c-1f6d-4ef1-ba5e-ed6a9db97132",
   "metadata": {},
   "outputs": [],
   "source": [
    "imgs[0].shape"
   ]
  },
  {
   "cell_type": "code",
   "execution_count": null,
   "id": "c7a71eca-ff6a-4678-93d4-2438f4ad886d",
   "metadata": {
    "scrolled": true
   },
   "outputs": [],
   "source": [
    "fig,axes=plt.subplots(ncols=imgs[0].shape[0],figsize=(20,20)) \n",
    "\n",
    "names= ['ribosomal stain', 'nuclear stain', 'DIC', 'cell mask', 'nuclear mask']\n",
    "\n",
    "i=0\n",
    "for ax,name in zip(axes,names):\n",
    "    ax.imshow(imgs[0][i])\n",
    "    ax.set_title(f'channel : {name}')\n",
    "    i+=1"
   ]
  },
  {
   "cell_type": "markdown",
   "id": "59e92a7e-0d53-4be8-b7de-63308ab3a95b",
   "metadata": {},
   "source": [
    "The last two channels are segmented masks based on the provided DIC and nuclear stain. A segmentation mask is an image in which every object of interest is given an unique label id, whilst the background is given the value zero. This allows us to count the number of object per image image, but also extract interesting variables about cell morphology or fluorescence intensity. At the end of the notebook we will show you how to produce the masks yourself. But first, we will see how we can use these masks to exract data from our images."
   ]
  },
  {
   "cell_type": "markdown",
   "id": "ed4447f8-0db0-41d3-9142-02e4843ade64",
   "metadata": {},
   "source": [
    "## <font color='seagreen'> 1: Extracting data from Masks </font>"
   ]
  },
  {
   "cell_type": "markdown",
   "id": "a2a8841c-1b3b-4784-8887-aef52c948413",
   "metadata": {},
   "source": [
    "For extraxting the data from our images we will use the funnction regionprops_table from the scikit-image processing library. Within this function we can select which properties are to be extracted. Below we extract the properties : **label**, **mean_intensity**, **eccentricity** and **centroid**. The exercise below will help you understand what these properties are."
   ]
  },
  {
   "cell_type": "code",
   "execution_count": null,
   "id": "34c9e93b-5754-4cd3-9255-e21ff85c9ac6",
   "metadata": {},
   "outputs": [],
   "source": [
    "#index fluorescent channels\n",
    "CY5,DAPI,DIC,cell_mask,nuclear_mask,=0,1,2,3,4\n",
    "\n",
    "#loop through images and extract properties of each labelled cell\n",
    "dfs=[]\n",
    "for img, i in zip(imgs,range(len(imgs))):\n",
    "    #create pandas dataframe extracting information from image labels and fluorescent channel. rt is the function regionprops_table\n",
    "    df=pd.DataFrame(rt(img[cell_mask].astype(int), img[CY5], properties=['label','mean_intensity','eccentricity','centroid']))\n",
    "    df['image_index']=i\n",
    "    dfs.append(df)\n",
    "\n",
    "#pd.concatenate all dataframes into one big frame\n",
    "df=pd.concat(dfs).reset_index()\n",
    "\n",
    "#summarize the contents of this big frame\n",
    "df.describe()"
   ]
  },
  {
   "cell_type": "code",
   "execution_count": null,
   "id": "84220f29-dae8-4ca6-80b5-766edcac0fc0",
   "metadata": {},
   "outputs": [],
   "source": [
    "#show the first 6 entries of the dataframe\n",
    "df.head(6)"
   ]
  },
  {
   "cell_type": "markdown",
   "id": "b02a65db-5e7e-4f46-b31c-00f3f9641562",
   "metadata": {},
   "source": [
    "**Q1.0: How many cells were imaged in total?**"
   ]
  },
  {
   "cell_type": "markdown",
   "id": "15b3acc5-3eb7-40f3-9010-fb04e722b2e1",
   "metadata": {},
   "source": [
    "type here"
   ]
  },
  {
   "cell_type": "code",
   "execution_count": null,
   "id": "2bdd6941-5fcc-4cc8-bbcd-f9e5f74c09ae",
   "metadata": {},
   "outputs": [],
   "source": [
    "sns.stripplot(data=df,x='image_index', y='mean_intensity',alpha=0.5, s=3, color='black')\n",
    "sns.boxplot(data=df,x='image_index', y='mean_intensity',color='purple')\n",
    "\n",
    "plt.title('CY5 Fluorescence intensity per image')"
   ]
  },
  {
   "cell_type": "markdown",
   "id": "fc5df596-f6e8-4ff2-a3c1-617d9928e326",
   "metadata": {},
   "source": [
    "**Q1.1: Which image contains the negative control unstained cells?**"
   ]
  },
  {
   "cell_type": "markdown",
   "id": "4455a738-7956-4cdd-9004-31e02b97adb3",
   "metadata": {},
   "source": [
    "type here"
   ]
  },
  {
   "cell_type": "markdown",
   "id": "1c24100f-c79e-47b2-a7b7-f675f909f129",
   "metadata": {},
   "source": [
    "**Q1.2: Can you plot all the negative control cells against ribosomal stained cells?**"
   ]
  },
  {
   "cell_type": "code",
   "execution_count": null,
   "id": "bcaf1782-f483-405a-a8f1-90105c6ed084",
   "metadata": {},
   "outputs": [],
   "source": [
    "#code here"
   ]
  },
  {
   "cell_type": "markdown",
   "id": "dcc20439-c843-4fd0-905e-afaef753346d",
   "metadata": {},
   "source": [
    "**Q1.3: Cell masks can also be used to study cell morphology. What kind of cell morphology can be described with eccentricity?**"
   ]
  },
  {
   "cell_type": "markdown",
   "id": "822c3f75-75f3-446b-9ad2-22cf17a80024",
   "metadata": {},
   "source": [
    "type here"
   ]
  },
  {
   "cell_type": "code",
   "execution_count": null,
   "id": "7aa47d7f-bc5c-41b8-be35-1b86b18d25e6",
   "metadata": {
    "scrolled": true
   },
   "outputs": [],
   "source": [
    "sns.stripplot(data=df,x='image_index', y='eccentricity',color='black', alpha=0.5, s=3)\n",
    "sns.boxplot(data=df,x='image_index', y='eccentricity')\n",
    "\n",
    "plt.title('Eccenctricity distribution per image')"
   ]
  },
  {
   "cell_type": "markdown",
   "id": "6e328e76-71ab-4eac-9457-8749c0546081",
   "metadata": {},
   "source": [
    "**Q0.3: Can you create a crop of a cell based on the information in the create dataframe? Fill in the code below**"
   ]
  },
  {
   "cell_type": "code",
   "execution_count": null,
   "id": "2e61f0b3-de12-4f5b-924b-51ac80582cb4",
   "metadata": {},
   "outputs": [],
   "source": [
    "#displays the columns of entry number 20 in your dataframe\n",
    "df.iloc[20]"
   ]
  },
  {
   "cell_type": "code",
   "execution_count": null,
   "id": "aab6d202-52cf-4543-a59d-69c76dcac312",
   "metadata": {},
   "outputs": [],
   "source": [
    "#fill in these variables. Use values from the table above\n",
    "image_index=\n",
    "centroid0=\n",
    "centroid1=\n",
    "\n",
    "\n",
    "plt.imshow(imgs[int(image_index)][0,int(centroid0)-50:int(centroid0)+50,int(centroid1)-50:int(centroid1)+50])\n",
    "cbar = plt.colorbar(orientation='horizontal')\n",
    "cbar.set_label('fluorescence (A.U)')"
   ]
  },
  {
   "cell_type": "markdown",
   "id": "f5d77eef-12e2-4dc3-9c43-d002b32113c2",
   "metadata": {},
   "source": [
    "**Q1.4: What cell property is described by centroid?**"
   ]
  },
  {
   "cell_type": "markdown",
   "id": "12c921e0-09dd-4521-b61c-e8274426339d",
   "metadata": {},
   "source": [
    "type here"
   ]
  },
  {
   "cell_type": "markdown",
   "id": "02d06a17-f124-436f-9454-b98ce8177331",
   "metadata": {},
   "source": [
    "## <font color='seagreen'> 2: the Napari image viewer</font> "
   ]
  },
  {
   "cell_type": "markdown",
   "id": "ddf2d81c-4e59-4919-8ddb-c7474f94c51b",
   "metadata": {},
   "source": [
    "In the next section, we will introduce to you the  napari image viewer and its plugin hub. Napari is a python based image viewer with a wide community of develpopers focused on image analysis. Therefore, there is a huge amount of plugins avalaible for all kinds of different image analysis problems (https://www.napari-hub.org/). Here, we will show you how open image in napari and perform segmentation on our images using the napari-Cellpose plugin. Cellpose is Convolutional Neural Network (deep-learning) based segmentation algorithm to produce cell mask. Next, we will use your own code to create a plugin yourself to produce the a nuclear mask."
   ]
  },
  {
   "cell_type": "code",
   "execution_count": null,
   "id": "3c9c588a-1e05-45d6-9b30-eae33ceae183",
   "metadata": {},
   "outputs": [],
   "source": [
    "#create an instance of the napari viewer and add the first image\n",
    "viewer = napari.Viewer()\n",
    "\n",
    "#img index \n",
    "img= imgs[0]\n",
    "\n",
    "viewer.add_image(img[CY5], name='CY5') \n",
    "viewer.add_image(img[DAPI], name='DAPI') \n",
    "viewer.add_image(img[DIC], name='DIC') "
   ]
  },
  {
   "cell_type": "code",
   "execution_count": null,
   "id": "1b520074-68cd-4078-87d4-0173fc6cb149",
   "metadata": {},
   "outputs": [],
   "source": [
    "#if napari doesn't open try to reintall the package.\n",
    "!pip install \"napari[all]\""
   ]
  },
  {
   "cell_type": "markdown",
   "id": "634fc38c-a99e-4f19-8126-1098fe0bbb94",
   "metadata": {},
   "source": [
    "In the top layer of the created viewer you can find the button **Plugins**. Click this button, and select the plugin named cellpose. Next, switch you attention to the created window on the right hand side of the viewer. Here, in the image-layer dropdown menu select the **CY5** channel. Then press the button **run segmentation**. Be patient as it can take a while produce its resutls. "
   ]
  },
  {
   "cell_type": "markdown",
   "id": "45911b7e-161b-4a2e-b35c-3b719d374725",
   "metadata": {},
   "source": [
    "**Q2.0: Hover over the produced masks, do you understand what it means that each cell is assigned its own unique label?**"
   ]
  },
  {
   "cell_type": "markdown",
   "id": "c920fa4b-fae4-4fb5-8b3d-4ba453194c47",
   "metadata": {},
   "source": [
    "type here"
   ]
  },
  {
   "cell_type": "markdown",
   "id": "b1b3cd5f-fef6-4747-9b73-0e01e3b719e2",
   "metadata": {},
   "source": [
    "Lets create our own plugin to perform nuclear mask segmentation. For this purpose we will first close the cellpose window within the viewer. Next, you can execute the code block below to add our own plugin to the viewer. This is done with a python library called magicgui. This library opens up exciting avenues for thos who want to quickly develop their own plugins. For an overview of what is possible with magicgui see: https://pyapp-kit.github.io/magicgui/."
   ]
  },
  {
   "cell_type": "code",
   "execution_count": null,
   "id": "17083e57-3ebb-461f-a9ff-5904917e853d",
   "metadata": {},
   "outputs": [],
   "source": [
    "@magicgui(call_button=\"threshold\", threshold={'widget_type':'Slider',\"max\": 100},auto_call=False)\n",
    "def threshold(image: Image, threshold: int = 100) -> Labels:\n",
    "    \"\"\" thresholding widget for nuclear segmentation\"\"\"\n",
    "\n",
    "    image =(image.data*(100/image.data.max()))\n",
    "    thresholded_image=image>threshold\n",
    "    nuclei,_=label(thresholded_image)\n",
    "    \n",
    "    return Labels(nuclei, name='nuclear_mask')\n",
    "\n",
    "viewer.window.add_dock_widget(threshold)"
   ]
  },
  {
   "cell_type": "markdown",
   "id": "9803366a-f12d-4524-9171-598c6c0736a4",
   "metadata": {},
   "source": [
    "**Q2.1: Where you able to reproduce the nuclear masks of a single image? Can you think of a use case for nuclear mask in an image data analyis pipeline?**"
   ]
  },
  {
   "cell_type": "markdown",
   "id": "428b21f8-1859-4c93-bf66-548470877887",
   "metadata": {},
   "source": [
    "type here"
   ]
  },
  {
   "cell_type": "markdown",
   "id": "3215faee-214d-4c72-8c14-1a563182b3f3",
   "metadata": {},
   "source": [
    "***"
   ]
  },
  {
   "cell_type": "markdown",
   "id": "eadaae64-b04d-4bf5-88fd-ccc242cd75d5",
   "metadata": {},
   "source": [
    "## <font color='seagreen'> 3: Programming excersize </font> "
   ]
  },
  {
   "cell_type": "markdown",
   "id": "ab83ec7f-d554-498c-91e5-8349b2a76115",
   "metadata": {},
   "source": [
    "**Q3.0: Extract the area of each nuclei in the nuclear_masks channel of our images. Then plot these areas as a histogram.** "
   ]
  },
  {
   "cell_type": "code",
   "execution_count": null,
   "id": "bc8b6ab4-f506-43ab-aded-0a36d21d8d4d",
   "metadata": {},
   "outputs": [],
   "source": [
    "code here"
   ]
  },
  {
   "cell_type": "markdown",
   "id": "f17038a8-dc65-4088-8834-81071fa44c72",
   "metadata": {},
   "source": [
    "***"
   ]
  },
  {
   "cell_type": "markdown",
   "id": "ea3a7fbd-c6c9-42f2-963a-e607d2643e2f",
   "metadata": {},
   "source": [
    "## <font color='seagreen'> 4: Final conceptual questions</font> "
   ]
  },
  {
   "cell_type": "markdown",
   "id": "28da0d95-d06c-48de-8857-61e1d67ddafb",
   "metadata": {},
   "source": [
    "**Q4.0: Can you describe what segmentation is in your own words?**"
   ]
  },
  {
   "cell_type": "markdown",
   "id": "63aaad39-8ecc-4fca-bf6c-e305cfdf8900",
   "metadata": {},
   "source": [
    "type here"
   ]
  },
  {
   "cell_type": "markdown",
   "id": "6babae61-e595-4aea-89d4-7fff76758cfa",
   "metadata": {},
   "source": [
    "**Q4.1: Devise an experimental set-up in which microscopy and its tools can be used to study symbiosis?**"
   ]
  },
  {
   "cell_type": "markdown",
   "id": "10503305-91da-4762-a5cd-877d98d8ec7b",
   "metadata": {},
   "source": [
    "type here"
   ]
  },
  {
   "cell_type": "markdown",
   "id": "d34e5e39-97eb-4cae-acd0-5fc591031bfe",
   "metadata": {},
   "source": [
    "**Q4.2: Think of a data extraction method. How can we quantify the symbiotic relationship acquired by your new symbiotic set-up?**"
   ]
  },
  {
   "cell_type": "markdown",
   "id": "53e65faa-025e-44f0-843d-10d8c8b78002",
   "metadata": {},
   "source": [
    "type here"
   ]
  },
  {
   "cell_type": "markdown",
   "id": "79e9f3a9-0c92-450c-a815-ea13fb84ada5",
   "metadata": {},
   "source": [
    "***"
   ]
  },
  {
   "cell_type": "markdown",
   "id": "2e0921d8-7d15-4686-87ee-96b4e8848a99",
   "metadata": {},
   "source": [
    "You have reached the end of this notebook, have you understood the main concepts in this introductions about image analysis?"
   ]
  },
  {
   "cell_type": "markdown",
   "id": "272f67eb-c3a1-4aaa-85aa-43b895cd3289",
   "metadata": {},
   "source": [
    "- What is segmentation?"
   ]
  },
  {
   "cell_type": "markdown",
   "id": "3094bc93-5697-4811-a8bf-2f2d695271cd",
   "metadata": {},
   "source": [
    "- How can you extract data from segmentation?"
   ]
  },
  {
   "cell_type": "markdown",
   "id": "1b9707cc-10ea-434f-afff-6fceb7ec2d72",
   "metadata": {},
   "source": [
    "- What is napari python viewer?"
   ]
  },
  {
   "cell_type": "markdown",
   "id": "65c036a9-da31-4ade-b192-d28bf22c6ec0",
   "metadata": {},
   "source": [
    "- What are plugins and how can I use them to perform image analysis."
   ]
  }
 ],
 "metadata": {
  "kernelspec": {
   "display_name": "Python 3 (ipykernel)",
   "language": "python",
   "name": "python3"
  },
  "language_info": {
   "codemirror_mode": {
    "name": "ipython",
    "version": 3
   },
   "file_extension": ".py",
   "mimetype": "text/x-python",
   "name": "python",
   "nbconvert_exporter": "python",
   "pygments_lexer": "ipython3",
   "version": "3.9.18"
  }
 },
 "nbformat": 4,
 "nbformat_minor": 5
}
